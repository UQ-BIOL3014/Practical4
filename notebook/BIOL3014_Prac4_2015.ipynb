{
 "metadata": {
  "kernelspec": {
   "display_name": "Python 2",
   "language": "python",
   "name": "python2"
  },
  "language_info": {
   "codemirror_mode": {
    "name": "ipython",
    "version": 2
   },
   "file_extension": ".py",
   "mimetype": "text/x-python",
   "name": "python",
   "nbconvert_exporter": "python",
   "pygments_lexer": "ipython2",
   "version": "2.7.9"
  },
  "name": "",
  "signature": "sha256:4f67e5aaf77cca4360190101b852b448bc2d07dca1738929b65ae5df6e82295a"
 },
 "nbformat": 3,
 "nbformat_minor": 0,
 "worksheets": [
  {
   "cells": [
    {
     "cell_type": "markdown",
     "metadata": {},
     "source": [
      "IPython notebook created by BIOL3014 course staff. The material for the practical was created by Patricia Angelica Vera as a BINF700 major project in 2014. Dr Nick is very grateful to Patricia for creating this and allowing it to be used in BIOL314 & BINF7000. Thanks Patricia!\n",
      "\n",
      "Bug fixes: m.boden@uq.edu.au\n",
      "\n",
      "Source: https://github.com/UQ-BIOL3014/Practical4\n",
      "\n",
      "---"
     ]
    },
    {
     "cell_type": "markdown",
     "metadata": {},
     "source": [
      "# BIOL3014/BINF7000 Practical 4\n",
      "\n",
      "## Bioimaging introductory training\n",
      "---\n",
      "\n",
      "* **Due:** 11AM 26/08/2015\n",
      "* **Revision:** 1\n",
      "* **Marks:** \n",
      "    * **BIOL3014** - 8 marks. \n",
      "    * **BINF7000** - 12 marks.\n",
      "---\n",
      "\n",
      "\n",
      "### Objectives \n",
      "\n",
      "In this practical:\n",
      "* You will learn about general applications of bioimaging techniques, with special focus on segmentation and colocalization methods\n",
      "* You will implement a bioinformatics software to process and analyse image data to solve frequent biological questions\n",
      "* You will use basic python scripts to plot results\n",
      "---\n",
      "\n",
      "\n",
      "### Submission requirements\n",
      "\n",
      "Please export this IPython notebook (with written answers & completed code) to `STUDENTNUMBER_P4.ipynb` notebook and submit it via the BlackBoard portal. See the screenshot below:\n",
      "\n",
      "![alt text](export_workbook.png \"Exporting your workbook\")\n",
      "\n",
      "----\n",
      "\n",
      "\n",
      "### Resources\n",
      "\n",
      "#### Image analysis resources:\n",
      "* [ImageJ help documentation](http://imagej.nih.gov/ij/docs/index.html)\n",
      "\n",
      "\n",
      "#### Python resources:\n",
      "* The UQ Bioinformatics Python Guide (on Blackboard)\n",
      "* The [Python 2 documentation]. For those unfamiliar with Python the [Official tutorial] is recommended\n",
      "* The software carpentry [Novice python lessons]\n",
      "\n",
      "[Python 2 documentation]: https://docs.python.org/2/\n",
      "[Official tutorial]: https://docs.python.org/2/tutorial/index.html\n",
      "[Novice python lessons]: http://swcarpentry.github.io/python-novice-inflammation/\n",
      "\n",
      "####Relevant modules:\n",
      "None of the ```uqbinfpy``` modules are required for this practical.\n",
      "\n",
      "#### Other:\n",
      "* [IPython Notebook markdown cheatsheet]\n",
      "\n",
      "[IPython Notebook markdown cheatsheet]: https://github.com/adam-p/markdown-here/wiki/Markdown-Here-Cheatsheet#links\n",
      "\n",
      "---"
     ]
    },
    {
     "cell_type": "markdown",
     "metadata": {},
     "source": [
      "### Background and image processing resources\n",
      "\n",
      "Visualization and analysis of digital images from different areas of research is a key step to derive scientific insight results. Despite the importance of human interpretation along the different stages of the research, computational techniques in image analysis can expand our reasoning about complex information, automatizing common tasks such as quantifying cells, particles, molecules. Independent of the origin of the image, there are frequent issues that biologist face during analysis of results, problems like agglomeration in sections of the picture or products labelled with different fluorescent labels that overlapped in a same area and could obfuscate meaningful relationships in the data. \n",
      "\n",
      "A wide range of bioimaging tools have been developed to process scientific data. In today\u2019s session we will use [ImageJ], an open source image processing and analysis program, that is available on ILC computers or can be installed locally on your machines (http://rsbweb.nih.gov/ij/download.html). The practical is divided in two sections representing common challenges in images processing, each section contain a couple of exercises with pictures courtesy of researchers from the Institute of Molecular Bioscience (IMB), University of Queensland. The images for the practical are available on Blackboard and from the course GitHub site.\n",
      "\n",
      "[ImageJ]: http://imagej.nih.gov/ij/"
     ]
    },
    {
     "cell_type": "markdown",
     "metadata": {},
     "source": [
      "## Part I: Segmentation (BIOL3014 & BINF7000; 8 marks)\n",
      "Complete all exercises in Part 1. You must provide responses to requests highlighted in <span style=\"color:red\">**bold**</span>.\n",
      "\n",
      "As it was mentioned before, agglomeration of particles in sections of the picture tend to complicate the analysis of images, making it difficult to divide it in sections or isolate particles to quantify data. Segmentation is a process that refers to the partitioning of a digital image into non-overlapping (pixel) sets that are defined by some standardized characteristic (such as intensity, colour or texture). Good image segmentation should result in a representation of the original image that is changed (usually simplified) in such a way that facilitates a more meaningful analysis of the image. Segmentation is therefore a fundamental tool in digital image analysis as it allows us to focus on defined regions or objects of interest by partitioning them from extraneous image data.\n",
      "\n",
      "There are numerous computational methods used to implement segmentation with many different image characteristics that can be used to partition the image data. This part of the practical will focus on some of the more basic methods that will illustrate the principles and usefulness of image segmentation. **Intensity thresholding** is one of the simplest methods of image segmentation that will partition an image by pixel intensity with reference to defined intensity threshold value(s). For example, you may wish to clearly differentiate between light grey shapes on a dark grey background (like cells in a greyscale micrograph). Selecting a threshold value that is more intense than the background pixel values but less intense than the shape pixel values will allow the partitioning of all the pixels in the image into two sets based on whether they fall above (part of a shape) or below (background, i.e. threshold value). Designating a pixel as either black or white depending which side of the threshold it was on would generate a binary image.\n",
      "\n",
      "Thresholding methods can use more than one threshold value and are very useful in object differentiation. Each set of values is referred to as a separate channel of the image (for example, the pixel values of the red channel in an RGB image would represent the intensity of red). With digital image processing tools we can split an image into its separate channels and perform separate threshold segmentation on each channel. This approach is known as **Multispectral thresholding**.\n"
     ]
    },
    {
     "cell_type": "markdown",
     "metadata": {},
     "source": [
      "---\n",
      "### Exercise A. Image segmentation with image \u201cHMDM with Salmonella_merge\u201d \n",
      "\n",
      "#### Research Problem\n",
      "\n",
      "You are a bioinformatician consultant in a pathology research centre. You have received an image that shows the immune response against *Salmonella infection* in a human cell (Figure 1, Ronan Kapetanovic, IMB). Your task is to quantify the amount of *Salmonella* bacteria (\u201cCount the dots\u201d) in the host cell.\n",
      "\n",
      "![alt text](prac_images/salmonella_merge.png \"Fig. 1 Salmonella infection\")\n",
      "\n",
      "*Figure problem 1. Fluorescently tagged micrograph of a eukaryotic cell infected with Salmonella.*\n",
      "\n",
      "**_Step 1_**\n",
      "\n",
      "Open image *HMDM_with_Salmonella_merge.tif* with ImageJ. The nucleus has been tagged blue, *Salmonella* has been tagged red and the cell immune response has been tagged green. There is also a size scale in the bottom right corner of the image. For this exercise we want to segment the image to better analyse the properties of the bacterial cells (number and size).\n",
      "\n",
      "Following the steps **Image > Colour > Split Channels** will give you three grayscale images with pixel values representing the intensity of each colour channel (red, green and blue).\n",
      "\n",
      "![alt text](prac_images/salmonella_channels.png \"Fluorescent channels\")"
     ]
    },
    {
     "cell_type": "markdown",
     "metadata": {},
     "source": [
      "<span style=\"color:red\">**Question 1 (0.75 mark): What happens to the scale bar and legend when the image is split? Which of the three images is it present in? Why would it not appear in all channels of the image? Enter your answers into the markdown cell below.**"
     ]
    },
    {
     "cell_type": "markdown",
     "metadata": {},
     "source": []
    },
    {
     "cell_type": "markdown",
     "metadata": {},
     "source": [
      "**_Step 2_**\n",
      "\n",
      "As you will notice now in more detail, the red edges of *Salmonella* are represented in the red channel, but the interior of the bacteria is blue, so *Salmonella* can also be quantified in the blue channel. As the objective of this activity is quantifying the section of Salmonella and with the blue section you avoid most of the cell agglomerations, we recommend to continue with the blue channel for the rest of this exercise. Once you select the blue channel image for analysis of the bacteria. You will want to remove the eukaryote cell nucleus from the image as it is not relevant to our analysis. This can be done using the oval selection tool. When the nucleus has been selected go to **Edit > Cut**.\n",
      "\n",
      "![alt text](prac_images/imagej1-2.png \"Oval selection tool\")\n",
      "\n",
      "\n",
      "**_Step 3_**\n",
      "\n",
      "Now we want to clearly partition the *Salmonella* cells from the image background. This can be done with thresholding. Select **Image > Adjust > Threshold** which will bring up the window below. The histogram shows the pixel intensity of this greyscale image with the slide bars below allowing you to select the upper and lower pixel intensities for the partition (shown by the red window on the histogram). Adjust the slide bars until you have selected the *Salmonella* cells in red without selecting background pixels. Click **Apply**.\n",
      "\n",
      "![alt text](prac_images/imagej1-3.png \"Threshold tool\")\n",
      "\n",
      "You should now have a binary image of the salmonella cells that looks similar to this:\n",
      "\n",
      "![alt text](prac_images/salmonella_binary.png \"Salmonella cells (binary)\")\n",
      "\n",
      "**_Step 4_**\n",
      "\n",
      "To analyse the *Salmonella* cells in ImageJ select **Analyze > Analyze Particles**. The following window should appear. Select the same parameters and click **OK**.\n",
      "\n",
      "![alt text](prac_images/imagej1-4.png \"Analyse Particles window\")\n",
      "\n",
      "Two windows should appear, one with the total number of particles found in the image (the Summary window) and one listing the area and minimum, mean and maximum pixel intensities for each particle found (the Results window).\n",
      "\n",
      "Save the Results window to a txt file called *Results.txt* in the same directory as this practical.\n"
     ]
    },
    {
     "cell_type": "markdown",
     "metadata": {},
     "source": [
      "<span style=\"color:red\">**Question 2 (0.75 mark): What is the total number of particles detected by ImageJ? How accurate is this measurement likely to be? Why? Enter your answers into the markdown cell below.**"
     ]
    },
    {
     "cell_type": "markdown",
     "metadata": {},
     "source": []
    },
    {
     "cell_type": "markdown",
     "metadata": {},
     "source": [
      "<span style=\"color:red\">**Question 3 (0.75 mark): Why are the mean, minimum and maximum pixel intensities all 255? Enter your answer into the markdown cell below.**"
     ]
    },
    {
     "cell_type": "markdown",
     "metadata": {},
     "source": []
    },
    {
     "cell_type": "markdown",
     "metadata": {},
     "source": [
      "**_Step 5_**\n",
      "\n",
      "We will now look at the *Salmonella* cell sizes by plotting them in a histogram. Below is a very basic script that will read the *Results.txt* file and display the particle area data on a histogram. "
     ]
    },
    {
     "cell_type": "code",
     "collapsed": true,
     "input": [
      "#import pyplot plotting module\n",
      "import matplotlib.pyplot as plt\n",
      "\n",
      "f = open('Results.txt', 'r')    #read the ImageJ results file\n",
      "results = []                    #array to hold results data\n",
      "particleSize = []               #array to hold particle size data\n",
      "\n",
      "#read results file into results array\n",
      "for line in f:  \n",
      "    results.append(line.split())\n",
      "\n",
      "#remove column headers from array\n",
      "results.pop(0)\n",
      "\n",
      "#each element of results is a list containing the row number, image name, and image measures\n",
      "print results[0]\n",
      "\n",
      "#place particle sizes into array to be used in plot\n",
      "for size in results:\n",
      "    particleSize.append(float(size[3])) #area is stored in the fourth position of the list\n",
      "\n",
      "#plot histogram\n",
      "plt.hist(particleSize, bins=10)\n",
      "plt.title('Particle Size Count')\n",
      "plt.xlabel('Particle Size Range')\n",
      "plt.ylabel('Count')\n",
      "plt.show()"
     ],
     "language": "python",
     "metadata": {},
     "outputs": [],
     "prompt_number": null
    },
    {
     "cell_type": "markdown",
     "metadata": {},
     "source": [
      "<span style=\"color:red\">**Question 4 (0.5 mark): Include a copy of the histogram generated by this code in your final report.**"
     ]
    },
    {
     "cell_type": "markdown",
     "metadata": {},
     "source": [
      "**_Step 6_**\n",
      "\n",
      "ImageJ has an inbuilt **Watershed segmentation** function which we will use to try and separate some of the overlapping *Salmonella* cells in our binary image. Select **Process > Binary > Watershed**. Now use the magnify tool to examine you binary image after the watershed segmentation. Repeat the particle analysis performed in steps 6 to 9, this time saving the results file as *ResultsWS.txt* (you will have to change the name in the Python script as well). "
     ]
    },
    {
     "cell_type": "markdown",
     "metadata": {},
     "source": [
      "<span style=\"color:red\">**Question 5 (0.75 mark): Include a copy of your histogram in your final report. In the markdown cell below, comment on the differences between the number, size and distribution of sizes of particles between you first and second particle analysis.**"
     ]
    },
    {
     "cell_type": "markdown",
     "metadata": {},
     "source": []
    },
    {
     "cell_type": "markdown",
     "metadata": {},
     "source": [
      "<span style=\"color:red\">**Question 6 (0.75 mark): Has the algorithm separated overlapping particles appropriately? Does this make the second particle analysis better than the first? Why?**"
     ]
    },
    {
     "cell_type": "markdown",
     "metadata": {},
     "source": []
    },
    {
     "cell_type": "markdown",
     "metadata": {},
     "source": [
      "---\n",
      "### Exercise B. *Salmonella* progression\n",
      "\n",
      "#### Research Problem\n",
      "\n",
      "A new set of *Salmonella* samples have arrived to your laboratory (Markus Kerr, IMB) displaying the evolution of the infection at 3 stages. Your task is estimate the rate of Salmonella infection over time. For this you need to calculate a ratio between the number of bacteria and the numbers of cells in each image and plot it in a graph at each stage.\n",
      "\n",
      "![alt text](prac_images/salmonella_timecourse.png \"Fig. 2 Salmonella progression\")\n",
      "\n",
      "*Figure problem 2. Salmonella progression in human tissue after A) 2, B) 8 and C) 12 hours of infection.*\n",
      "\n",
      "**_Step 1_**\n",
      "\n",
      "Starting with the earliest point of the disease open the *2hrs_salmonella.tif* file in ImageJ and split channels as in the exercise before. Your results should look like:\n",
      "\n",
      "![alt text](prac_images/salmonella_progression_channels.png \"Fluorescent channels\")\n",
      "\n",
      "**_Step 2_**\n",
      "\n",
      "First we will determine the number of cells in the picture. The easiest way to do it is counting the nucleus (blue channel). The blue channel picture is in grey scale, which adds noise that interferes with particles counting, so go to **Process > Make binary** to obtain an image in black and white colours as below.\n",
      "\n",
      "![alt text](prac_images/salmonella_progression_binary.png \"Salmonella infection 2h (binary)\")"
     ]
    },
    {
     "cell_type": "markdown",
     "metadata": {},
     "source": [
      "<span style=\"color:red\">**Question 7 (0.75 mark): As you will notice the picture contains white areas inside the nucleus - why? Report your answer and the binary nuclear pictures obtained for 8 and 12 hours in the cell  below.**"
     ]
    },
    {
     "cell_type": "markdown",
     "metadata": {},
     "source": []
    },
    {
     "cell_type": "markdown",
     "metadata": {},
     "source": [
      "**_Step 3_**\n",
      "\n",
      "Continuing with the 2 hours figure fill the white spots by clicking on **Process > Make binary > Fill holes**. As before, more than one nucleus are located in the same spatial point, so use watershed method to segment the area and count the particles. Use the magnifying glass to see differences."
     ]
    },
    {
     "cell_type": "markdown",
     "metadata": {},
     "source": [
      "<span style=\"color:red\">**Question 8 (0.75 mark): Report the filled holes picture for 2 hours, and use Analyze particles on this image and look at the summary table result after counting particles. Some of the particles have very small areas. Why?**"
     ]
    },
    {
     "cell_type": "markdown",
     "metadata": {},
     "source": []
    },
    {
     "cell_type": "markdown",
     "metadata": {},
     "source": [
      "**_Step 4_**\n",
      "\n",
      "The noise can be removed by implementing selecting a minimum object size (in pixels) when running Analyze particles. \n",
      "\n",
      "To get an idea of what size to filter out, use the magic wand tool select and measure some of the noise particles. \n",
      "\n",
      "Then choose a size a bit larger than that as your minumun size to filter by in Analyse Particles.\n",
      "\n",
      "Run Analyze Particles again and save the results."
     ]
    },
    {
     "cell_type": "markdown",
     "metadata": {},
     "source": [
      "<span style=\"color:red\">**Question 9 (0.75 mark): In the markdown cell below, comment on the differences between the previous and current particles analysis results. **"
     ]
    },
    {
     "cell_type": "markdown",
     "metadata": {},
     "source": []
    },
    {
     "cell_type": "markdown",
     "metadata": {},
     "source": [
      "**_Step 5_**\n",
      "\n",
      "Open the red channel image to calculate the number of *Salmonella* bacteria cells after two hours of infection. As bacteria are small, use **Process > Find Maxima** with count as output option. You may like to adjust the \u201cNoise Tolerance\u201d option of Find Maxima together with the \u201cPreview\u201d option to find the settings that best select the *Salmonella*.\n",
      "\n",
      "![alt text](prac_images/salmonella_progression_cells.png \"Salmonella cell counting\")"
     ]
    },
    {
     "cell_type": "markdown",
     "metadata": {},
     "source": [
      "<span style=\"color:red\">**Question 10 (0.75 mark): In the markdown cell below, report the results of the Salmonella count.**"
     ]
    },
    {
     "cell_type": "markdown",
     "metadata": {},
     "source": []
    },
    {
     "cell_type": "markdown",
     "metadata": {},
     "source": [
      "<span style=\"color:red\">**Question 11 (0.75 mark): Repeat the process for each stage of the infection and complete the following table with estimative values. Save the table as salmonella_ratio.txt. Note that the format for salmonella_ratio.txt should start with a single header line followed by 3 lines of space separated data values. Use the script below to plot the Salmonella progression and report your graph.**"
     ]
    },
    {
     "cell_type": "markdown",
     "metadata": {},
     "source": [
      "| Stage of infection (hrs) | No. of bacterial cells | No. of cells |\n",
      "| ------------------------ | ---------------------- | ------------ |\n",
      "| 2                        |                        |              |\n",
      "| 8                        |                        |              |\n",
      "| 12                       |                        |              |"
     ]
    },
    {
     "cell_type": "code",
     "collapsed": false,
     "input": [
      "#import numpy module\n",
      "import numpy as np\n",
      "\n",
      "i= 0\n",
      "table = np.loadtxt('salmonella_ratio.txt', skiprows=1)#read the ImageJ results file as an array\n",
      "r_stage = []\n",
      "r_ratio = []\n",
      "for table[i] in table:\n",
      "    stage = table[i][0]\n",
      "    ratio = float(table[i][1]/table[i][2])\n",
      "    r_stage.append(stage)\n",
      "    r_ratio.append(ratio)\n",
      "plt.scatter(r_stage, r_ratio)\n",
      "plt.plot(r_stage, r_ratio)\n",
      "plt.title('Salmonella Progression in infected tissue')\n",
      "plt.xlabel('Time after infection (Hours)')\n",
      "plt.ylabel('Ratio of infection')\n",
      "plt.show()\n"
     ],
     "language": "python",
     "metadata": {},
     "outputs": [],
     "prompt_number": null
    },
    {
     "cell_type": "markdown",
     "metadata": {},
     "source": [
      "## Part II: Colocalization (BINF7000 only; 4 marks)\n",
      "Complete all exercises in Part 2. You must provide responses to requests highlighted in <span style=\"color:red\">**bold**</span>.\n",
      "\n",
      "In fluorescent microscopy, some analysis require the detection of two or more types of particles. When this happens, molecules are labelled with different fluorescent compounds to observe when more than one signal overlaps in the same spatial positions, known as colocalisation. This bio-imaging method has many applications for evaluating interactions at cellular level. For example, antibodies of a protein of interest can be labelled with florescent compounds with different excitation spectra, which means they will fluoresce with different colours in the images. It is also a useful method for obtaining spatial information when studying topics related to metabolism, cell signalling events and transcriptional control, or to observe the behaviour of a pathogenic bacteria entering into a host cell.\n",
      "\n",
      "Colocalisation can be overviewed by observing the combined colours of the different fluorescent signals in overlaid images. One computational method to evaluate colocalisation involve using scatterplots to plot the relationship between intensity of a colour in 1 pixel in the image against another colour. Scatterplots (also known as fluorograms in this topic) allows the use of statistical methods of evaluation, such as Pearson\u2019s and Spearman\u2019s coefficient, which are both used to calculate degree of overlap based on intensity. During the analysis, each colour is separated into different channels, and overlaying the images can produce areas of combined colour. This indicates the different fluorescent signals are located in the same area. The results are independent images to work with to continue with the analysis.\n",
      "\n",
      "For this section we will focus on dividing the fluorescent signals of colocalized particles. You will need an additional **Colocalization finder** plugin, available on the [ImageJ webpage], that can be installed by pasting the downloaded file into the plugin folder in the directory: ImageJ/Plugins, remember to restart ImageJ after pasting the plugin.\n",
      "\n",
      "[ImageJ webpage]: http://rsb.info.nih.gov/ij/plugins/colocalization-finder.html\n"
     ]
    },
    {
     "cell_type": "markdown",
     "metadata": {},
     "source": [
      "---\n",
      "### Exercise A. Macrophage cells: the body\u2019s garbage collectors\u201d \n",
      "\n",
      "#### Research Problem\n",
      "\n",
      "A immunology/cell biology laboratory sends you a macrophage cell sample image (Nick Condon, IMB). They want to verify if low density lipids (LDL in red) are localising to a subcellular protein transport compartment called endosomes (labelled in green), in other words, is it like that the LDL is being transported about the cell by endosomes. To solve this, apply the colocalization knowledge that you have acquired in the red and green channels.\n",
      "\n",
      "**_Step 1_**\n",
      "\n",
      "Open image *wheat_germ_coloc.png* with ImageJ. The cell surface membrane is labelled in blue by a wheat germ fluorescent label. Endosomes are labelled green and low density lipid (LDL) labelled in red. For this part of the tutorial, you will be shown a simple method using ImageJ and the Colocalisation Finder plug-in to colocalize an image and find the Pearson coefficient. Similarly to in the Salmonella quantification question above, the nuclear region has been cut from the image you will analyse to avoid quantifying in a region we are not interested in. \n",
      "\n",
      "![alt text](prac_images/macrophage.png \"Fig. 3 Macrophage cell\")\n",
      "\n",
      "*Figure problem 3. Fluorescently tagged LDL (red), endosomes (green), cell surface membrane (blue) in a macrophage cell. The two nuclei have been removed from further analysis in the image on the right.*\n",
      "\n",
      "Following the steps **Image > Colour > Split Channels** will give you three grayscale images with pixel values representing the intensity of each colour channel (red, green and blue).\n",
      "\n",
      "![alt text](prac_images/macrophage_channels.png \"Fluorescent channels\")\n",
      "\n",
      "**_Step 2_**\n",
      "\n",
      "From the original image, you should be able to see considerable overlap between the red and green channels (producing the combined yellow colour in the original image). Colocalisation is useful to make observations about the types of structures the colours represent and where they are connected and interacting (overlapping).\n",
      "\n",
      "Under the **Plugins** toolbar section, there should now be a button for the **Colocalisation Finder**. If this is not visible, try restarting ImageJ. Clicking the button should open up a new window.\n",
      "\n",
      "![alt text](prac_images/imagej3-2.png \"Colocalization Finder tool\")\n",
      "\n",
      "**_Step 3_**\n",
      "\n",
      "The Colocalisation Finder plugin should have automatically identified the red and green channel images for analysis, but you can manually change **Image1** and **Image2** to examine the colocalisation of the different colour channels. For this tutorial, we will proceed with the use of the red and green channels (endosomes and low density lipids). Check the box for **Also show selected pixels on a 3rd grayscale image**. Along with an image of the colocalisation mask in white, this will produce another image with the title Colocalisation Mask on third image that will show the overlap clearly (in green).\n",
      "\n",
      "![alt text](prac_images/imagej3-3.png \"Colocalization Finder options\")\n",
      "\n",
      "A scatterplot and a table of results will also be outputted. The scatterplot shows the intensity of the red pixels against the intensity of the green pixels. Pure red or green pixels will be closer to the axes, while combined, colocalized pixels with be in the middle of the plot. \n",
      "\n",
      "![alt text](prac_images/macrophage_output.png \"Colocalization Finder Output Image\")\n",
      "\n"
     ]
    },
    {
     "cell_type": "markdown",
     "metadata": {},
     "source": [
      "<span style=\"color:red\">**Question 12 (1.5 mark): Report the scatterplot and the Pearson\u2019s correlation calculated by the colocalization finder and describe what it represents. **"
     ]
    },
    {
     "cell_type": "markdown",
     "metadata": {},
     "source": []
    },
    {
     "cell_type": "markdown",
     "metadata": {},
     "source": [
      "**_Step 4_**\n",
      "\n",
      "The code below use a Python Image Library (PIL) to plot a scatterplot of two colocalized channels. Use the code and plots generated to answer the following questions. \n"
     ]
    },
    {
     "cell_type": "markdown",
     "metadata": {},
     "source": [
      "<span style=\"color:red\">**Question 13 (1.5 mark): The Python code is uncommented. Add your comments (marked with ###) and report the plot generated. **"
     ]
    },
    {
     "cell_type": "code",
     "collapsed": false,
     "input": [
      "import matplotlib.pyplot as plt\n",
      "\n",
      "from PIL import Image\n",
      "\n",
      "redX = []\n",
      "redY = []\n",
      "greenX = []\n",
      "greenY = []\n",
      "yellowX = []\n",
      "yellowY = []\n",
      "\n",
      "\n",
      "myimage = Image.open('wheat_germ_coloc.png', 'r')\n",
      "myimage.load()\n",
      "red, green, blue = myimage.split()\n",
      "\n",
      "\n",
      "r2 = list(red.getdata())\n",
      "g2 = list(green.getdata())\n",
      "\n",
      "\n",
      "w = 30\n",
      "\n",
      "\n",
      "for pix in range(len(r2)-1):\n",
      "\n",
      "    if r2[pix] in range(g2[pix]- w, g2[pix]+ w):\n",
      "        yellowX.append(r2[pix])\n",
      "        yellowY.append(g2[pix])\n",
      "\n",
      "    elif r2[pix] < g2[pix] - w:\n",
      "        greenX.append(r2[pix])\n",
      "        greenY.append(g2[pix])\n",
      "\n",
      "    elif r2[pix] > g2[pix] + w:\n",
      "        redX.append(r2[pix])\n",
      "        redY.append(g2[pix])\n",
      "\n",
      "plt.plot(redX, redY, '.r')\n",
      "plt.plot(greenX, greenY, '.g')\n",
      "plt.plot(yellowX, yellowY, '.y')\n",
      "plt.show()"
     ],
     "language": "python",
     "metadata": {},
     "outputs": [],
     "prompt_number": 4
    },
    {
     "cell_type": "markdown",
     "metadata": {},
     "source": [
      "<span style=\"color:red\">**Question 14 (1 mark): Briefly explain to your customer your conclusion about the research problem.**"
     ]
    },
    {
     "cell_type": "markdown",
     "metadata": {},
     "source": []
    },
    {
     "cell_type": "markdown",
     "metadata": {},
     "source": [
      "---\n",
      "## References\n",
      "* Bernardis, E. and S. X. Yu, 'Finding Dots: Segmentation as Popping out Regions from Boundaries' (2010)  *2010 Ieee Conference on Computer Vision and Pattern Recognition (Cvpr)* 199\n",
      "* EC, Jensen, 'Technical Review: Colocalization of Antibodies Using Confocal Microscopy.' (2014) 297:183\u2013187 *Anat Rec*. \n",
      "* KW, Kenneth W. Dunn, Kamocka MM and McDonald JH Am, 'A practical guide to evaluating colocalization in biological microscopy. ' (2011) 300: C723\u2013C742 *J Physiol Cell Physiol*. \n",
      "* *Olympus's Colocalization of Fluorophores in Confocal Microscopy*. <http://www.olympusfluoview.com/applications/colocalization.html>\n",
      "* Pham, D. L., C. Xu and J. L. Prince, 'Current methods in medical image segmentation' (2000) 2 *Annu Rev Biomed Eng* 315\n",
      "* *Scientific Volume Imaging\u2019s Microscopy Colocalization Theoretical Background*. <http://www.svi.nl/ColocalizationTheory>\n"
     ]
    },
    {
     "cell_type": "markdown",
     "metadata": {},
     "source": [
      "---"
     ]
    }
   ],
   "metadata": {}
  }
 ]
}